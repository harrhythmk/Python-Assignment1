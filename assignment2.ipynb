{
 "cells": [
  {
   "cell_type": "code",
   "execution_count": 1,
   "metadata": {},
   "outputs": [
    {
     "data": {
      "text/plain": [
       "30"
      ]
     },
     "execution_count": 1,
     "metadata": {},
     "output_type": "execute_result"
    }
   ],
   "source": [
    "#Task1\n",
    "#1.1\n",
    "def multiply(a): \n",
    "    mul=1\n",
    "    for i in a:\n",
    "        mul*=i\n",
    "    return mul\n",
    "\n",
    "def myreduce(func, seq):\n",
    "    result=func(seq)\n",
    "    return result\n",
    "\n",
    "\n",
    "l=[1,2,3,5]\n",
    "result= myreduce(multiply,l)\n",
    "result"
   ]
  },
  {
   "cell_type": "code",
   "execution_count": 2,
   "metadata": {},
   "outputs": [
    {
     "name": "stdout",
     "output_type": "stream",
     "text": [
      "[1, 3, 5, 67]\n"
     ]
    }
   ],
   "source": [
    "#1.2\n",
    "def myfilter(func, seq):\n",
    "    result=[]\n",
    "    for var in seq:\n",
    "        if func(var):\n",
    "            result.append(var)\n",
    "    return result\n",
    "\n",
    "def isodd(a):\n",
    "    if a%2 != 0:\n",
    "        return True\n",
    "seq=[1,3,5,24,46,67,88,100]\n",
    "print(myfilter(isodd, seq))"
   ]
  },
  {
   "cell_type": "code",
   "execution_count": 3,
   "metadata": {},
   "outputs": [
    {
     "name": "stdout",
     "output_type": "stream",
     "text": [
      "['A', 'C', 'A', 'D', 'G', 'I', 'L', 'D']\n"
     ]
    },
    {
     "data": {
      "text/plain": [
       "['x', 'y', 'z', 'xx', 'yy', 'zz', 'xxx', 'yyy', 'zzz', 'xxxx', 'yyyy', 'zzzz']"
      ]
     },
     "execution_count": 3,
     "metadata": {},
     "output_type": "execute_result"
    }
   ],
   "source": [
    "#2\n",
    "my_string= \"ACADGILD\"\n",
    "my_list= [x for x in my_string]\n",
    "print(my_list)\n",
    "\n",
    "m= ['x','y','z']\n",
    "sec_list = [i*j for i in range(1,5) for j in m]\n",
    "sec_list"
   ]
  },
  {
   "cell_type": "code",
   "execution_count": 4,
   "metadata": {},
   "outputs": [
    {
     "data": {
      "text/plain": [
       "['x', 'xx', 'xxx', 'xxxx', 'y', 'yy', 'yyy', 'yyyy', 'z', 'zz', 'zzz', 'zzzz']"
      ]
     },
     "execution_count": 4,
     "metadata": {},
     "output_type": "execute_result"
    }
   ],
   "source": [
    "#2\n",
    "l = [i * j for i in m for j in range(1, 5)]\n",
    "l"
   ]
  },
  {
   "cell_type": "code",
   "execution_count": 5,
   "metadata": {},
   "outputs": [
    {
     "data": {
      "text/plain": [
       "[[2], [3], [4], [3], [4], [5], [4], [5], [6]]"
      ]
     },
     "execution_count": 5,
     "metadata": {},
     "output_type": "execute_result"
    }
   ],
   "source": [
    "#2\n",
    "i= [2,3,4]\n",
    "n= [[a+b] for a in i for b in range(0,3)]\n",
    "n"
   ]
  },
  {
   "cell_type": "code",
   "execution_count": 6,
   "metadata": {},
   "outputs": [
    {
     "data": {
      "text/plain": [
       "[[2, 3, 4, 5], [3, 4, 5, 6], [4, 5, 6, 7], [5, 6, 7, 8]]"
      ]
     },
     "execution_count": 6,
     "metadata": {},
     "output_type": "execute_result"
    }
   ],
   "source": [
    "#2\n",
    "input_list = [2,3,4,5]\n",
    "result = [[item+num for item in input_list] for num in range(0,4)]\n",
    "result"
   ]
  },
  {
   "cell_type": "code",
   "execution_count": 7,
   "metadata": {},
   "outputs": [
    {
     "data": {
      "text/plain": [
       "[(1, 1), (2, 1), (3, 1), (1, 2), (2, 2), (3, 2), (1, 3), (2, 3), (3, 3)]"
      ]
     },
     "execution_count": 7,
     "metadata": {},
     "output_type": "execute_result"
    }
   ],
   "source": [
    "#2\n",
    "list_ = [1,2,3]\n",
    "r= [(b,a) for a in list_ for b in list_]\n",
    "r"
   ]
  },
  {
   "cell_type": "code",
   "execution_count": 8,
   "metadata": {},
   "outputs": [
    {
     "name": "stdout",
     "output_type": "stream",
     "text": [
      "Windstream\n"
     ]
    }
   ],
   "source": [
    "#3\n",
    "def longestWord(word_list):\n",
    "    len_list=[]\n",
    "    for i in word_list:\n",
    "        len_list.append((len(i),i))\n",
    "    len_list.sort()\n",
    "    return len_list[-1][1]\n",
    "\n",
    "print(longestWord(['Rhythm','Stone','Windstream']))"
   ]
  },
  {
   "cell_type": "code",
   "execution_count": 9,
   "metadata": {},
   "outputs": [
    {
     "name": "stdout",
     "output_type": "stream",
     "text": [
      "Enter another side: 3\n",
      "Enter 1st side of triangle: 1\n",
      "Enter 2nd side of triangle: 4\n",
      "Enter 3rd side of triangle: 3\n"
     ]
    },
    {
     "ename": "NameError",
     "evalue": "name 's' is not defined",
     "output_type": "error",
     "traceback": [
      "\u001b[0;31m---------------------------------------------------------------------------\u001b[0m",
      "\u001b[0;31mNameError\u001b[0m                                 Traceback (most recent call last)",
      "\u001b[0;32m<ipython-input-9-ba853fa3d122>\u001b[0m in \u001b[0;36m<module>\u001b[0;34m\u001b[0m\n\u001b[1;32m     21\u001b[0m         \u001b[0;32mreturn\u001b[0m \u001b[0;34m(\u001b[0m\u001b[0mself\u001b[0m\u001b[0;34m.\u001b[0m\u001b[0ms\u001b[0m\u001b[0;34m*\u001b[0m\u001b[0;34m(\u001b[0m\u001b[0mself\u001b[0m\u001b[0;34m.\u001b[0m\u001b[0ms\u001b[0m\u001b[0;34m-\u001b[0m\u001b[0mself\u001b[0m\u001b[0;34m.\u001b[0m\u001b[0ma\u001b[0m\u001b[0;34m)\u001b[0m\u001b[0;34m*\u001b[0m\u001b[0;34m(\u001b[0m\u001b[0mself\u001b[0m\u001b[0;34m.\u001b[0m\u001b[0ms\u001b[0m\u001b[0;34m-\u001b[0m\u001b[0mself\u001b[0m\u001b[0;34m.\u001b[0m\u001b[0mb\u001b[0m\u001b[0;34m)\u001b[0m\u001b[0;34m*\u001b[0m\u001b[0;34m(\u001b[0m\u001b[0mself\u001b[0m\u001b[0;34m.\u001b[0m\u001b[0ms\u001b[0m\u001b[0;34m-\u001b[0m\u001b[0mself\u001b[0m\u001b[0;34m.\u001b[0m\u001b[0mc\u001b[0m\u001b[0;34m)\u001b[0m\u001b[0;34m)\u001b[0m\u001b[0;34m**\u001b[0m\u001b[0;36m0.5\u001b[0m\u001b[0;34m\u001b[0m\u001b[0;34m\u001b[0m\u001b[0m\n\u001b[1;32m     22\u001b[0m \u001b[0;34m\u001b[0m\u001b[0m\n\u001b[0;32m---> 23\u001b[0;31m \u001b[0ma_tr\u001b[0m\u001b[0;34m=\u001b[0m \u001b[0mSub_Triangle\u001b[0m\u001b[0;34m(\u001b[0m\u001b[0ms\u001b[0m\u001b[0;34m,\u001b[0m\u001b[0ma\u001b[0m\u001b[0;34m,\u001b[0m\u001b[0mb\u001b[0m\u001b[0;34m,\u001b[0m\u001b[0mc\u001b[0m\u001b[0;34m)\u001b[0m\u001b[0;34m\u001b[0m\u001b[0;34m\u001b[0m\u001b[0m\n\u001b[0m\u001b[1;32m     24\u001b[0m \u001b[0mprint\u001b[0m\u001b[0;34m(\u001b[0m\u001b[0ma_tr\u001b[0m\u001b[0;34m)\u001b[0m\u001b[0;34m\u001b[0m\u001b[0;34m\u001b[0m\u001b[0m\n",
      "\u001b[0;31mNameError\u001b[0m: name 's' is not defined"
     ]
    }
   ],
   "source": [
    "#Task2\n",
    "#1.1\n",
    "\n",
    "class Triangle:\n",
    "    s= int(input(\"Enter another side: \"))\n",
    "    a= int(input(\"Enter 1st side of triangle: \"))\n",
    "    b= int(input(\"Enter 2nd side of triangle: \"))\n",
    "    c= int(input(\"Enter 3rd side of triangle: \"))\n",
    "\n",
    "    def __init__(self,a,b,c):\n",
    "        self.s =s\n",
    "        self.a= a\n",
    "        self.b= b\n",
    "        self.c= c\n",
    "\n",
    "class Sub_Triangle(Triangle):\n",
    "    def __init__(self, *args,**kwargs):\n",
    "        super(Triangle,self).__init__(*args,**kwargs)\n",
    "\n",
    "    def area(self):\n",
    "        return (self.s*(self.s-self.a)*(self.s-self.b)*(self.s-self.c))**0.5\n",
    "\n",
    "a_tr= Sub_Triangle(s,a,b,c)\n",
    "print(a_tr)"
   ]
  },
  {
   "cell_type": "code",
   "execution_count": 10,
   "metadata": {},
   "outputs": [
    {
     "name": "stdout",
     "output_type": "stream",
     "text": [
      "['This', 'stone', 'heavy']\n"
     ]
    }
   ],
   "source": [
    "#1.2\n",
    "def filter_long_words(n,b):\n",
    "    word_len= []\n",
    "    txt= b.split(\" \")\n",
    "    for i in txt:\n",
    "        if len(i)> n:\n",
    "            word_len.append(i)\n",
    "    return word_len\n",
    "\n",
    "print(filter_long_words(2,\"This stone is heavy\"))"
   ]
  },
  {
   "cell_type": "code",
   "execution_count": 11,
   "metadata": {},
   "outputs": [
    {
     "name": "stdout",
     "output_type": "stream",
     "text": [
      "[1, 2, 2, 4, 6]\n"
     ]
    }
   ],
   "source": [
    "#2.1\n",
    "def map_len(x_list):\n",
    "    y_list=[]\n",
    "    for i in x_list:\n",
    "        i = len(i)\n",
    "        y_list.append(i)\n",
    "    return y_list\n",
    "print(map_len(['a','ab','bc','defg','Rhythm']))"
   ]
  },
  {
   "cell_type": "code",
   "execution_count": 12,
   "metadata": {},
   "outputs": [
    {
     "name": "stdout",
     "output_type": "stream",
     "text": [
      "Enter a character: e\n",
      "True\n"
     ]
    }
   ],
   "source": [
    "#2.2\n",
    "def vowel(x):\n",
    "    x=input(\"Enter a character: \")\n",
    "    if x in ('a', 'e', 'i', 'o', 'u'):\n",
    "        return True\n",
    "    else:\n",
    "        return False\n",
    "print(vowel('e'))"
   ]
  },
  {
   "cell_type": "code",
   "execution_count": null,
   "metadata": {},
   "outputs": [],
   "source": []
  },
  {
   "cell_type": "code",
   "execution_count": null,
   "metadata": {},
   "outputs": [],
   "source": []
  }
 ],
 "metadata": {
  "kernelspec": {
   "display_name": "Python 3",
   "language": "python",
   "name": "python3"
  },
  "language_info": {
   "codemirror_mode": {
    "name": "ipython",
    "version": 3
   },
   "file_extension": ".py",
   "mimetype": "text/x-python",
   "name": "python",
   "nbconvert_exporter": "python",
   "pygments_lexer": "ipython3",
   "version": "3.6.7"
  }
 },
 "nbformat": 4,
 "nbformat_minor": 2
}
